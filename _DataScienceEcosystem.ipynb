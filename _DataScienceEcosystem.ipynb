{
 "cells": [
  {
   "cell_type": "markdown",
   "id": "1aa7de7e-df4c-4203-8109-476231adb352",
   "metadata": {},
   "source": [
    "# Data Science Tools and Ecosystem"
   ]
  },
  {
   "cell_type": "markdown",
   "id": "04fbd167-f063-49a3-bac9-e71ff30c45f2",
   "metadata": {},
   "source": [
    "# In this notebook, Data Science Tools and Ecosystem are summarized."
   ]
  },
  {
   "cell_type": "markdown",
   "id": "3fb1cd7a-60bc-42c0-8a47-7fdc2c51ef8a",
   "metadata": {},
   "source": [
    "# **Objectives**:\n",
    "- List popular langauges for data science\n",
    "- List common libraries for data science\n",
    "- Demonstrate arithmetic expressions in python"
   ]
  },
  {
   "cell_type": "markdown",
   "id": "3b414720-376c-44a8-acc5-674710e4ef5d",
   "metadata": {},
   "source": [
    "# Some of the popular languages that Data Scientists use are:\n",
    "# 1: R\n",
    "# 2: SQL\n",
    "# 3: Python"
   ]
  },
  {
   "cell_type": "markdown",
   "id": "3a13e181-c768-4bc5-a18a-6ca211d04840",
   "metadata": {},
   "source": [
    "# Some of the commonly used libraries used by Data Scientists include:\n",
    "# 1: NumPy\n",
    "# 2: SciPy\n",
    "# 3: pandas"
   ]
  },
  {
   "cell_type": "markdown",
   "id": "deb6ccee-c6e3-4129-9c1a-1f6dd5e9cb99",
   "metadata": {},
   "source": [
    "# | Data Science Tools |\n",
    "# | Hadoop |\n",
    "# | Spark |\n",
    "# | pandas |"
   ]
  },
  {
   "cell_type": "markdown",
   "id": "d763d365-51b5-421e-bcfc-ccd6eb627966",
   "metadata": {},
   "source": [
    "### Below are a few examples of evaluating arithmetic expressions in Python"
   ]
  },
  {
   "cell_type": "code",
   "execution_count": 1,
   "id": "cd2612de-e5f2-4349-ad9e-5ea514e4adb5",
   "metadata": {
    "tags": []
   },
   "outputs": [
    {
     "data": {
      "text/html": [
       "17"
      ],
      "text/latex": [
       "17"
      ],
      "text/markdown": [
       "17"
      ],
      "text/plain": [
       "[1] 17"
      ]
     },
     "metadata": {},
     "output_type": "display_data"
    }
   ],
   "source": [
    "# This a simple arithmetic expression to mutiply then add integers\n",
    "(3*4)+5"
   ]
  },
  {
   "cell_type": "code",
   "execution_count": 12,
   "id": "178386af-a3b5-4707-bb7a-65be18c52700",
   "metadata": {
    "tags": []
   },
   "outputs": [
    {
     "data": {
      "text/html": [
       "3.33333333333333"
      ],
      "text/latex": [
       "3.33333333333333"
      ],
      "text/markdown": [
       "3.33333333333333"
      ],
      "text/plain": [
       "[1] 3.333333"
      ]
     },
     "metadata": {},
     "output_type": "display_data"
    }
   ],
   "source": [
    "# This will convert 200 minutes to hours by dividing by 60\n",
    "200/60"
   ]
  },
  {
   "cell_type": "markdown",
   "id": "d040adf1-e9af-4b8f-a500-0e4a9742946c",
   "metadata": {},
   "source": [
    "## Author\n",
    "Joshua Fenlason"
   ]
  },
  {
   "cell_type": "code",
   "execution_count": null,
   "id": "6899bc82-633b-4375-a60b-5ce24438f598",
   "metadata": {},
   "outputs": [],
   "source": []
  }
 ],
 "metadata": {
  "kernelspec": {
   "display_name": "R",
   "language": "R",
   "name": "conda-env-r-r"
  },
  "language_info": {
   "codemirror_mode": "r",
   "file_extension": ".r",
   "mimetype": "text/x-r-source",
   "name": "R",
   "pygments_lexer": "r",
   "version": "3.5.1"
  }
 },
 "nbformat": 4,
 "nbformat_minor": 5
}
